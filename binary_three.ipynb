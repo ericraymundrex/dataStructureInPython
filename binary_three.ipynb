{
 "cells": [
  {
   "cell_type": "markdown",
   "metadata": {},
   "source": [
    "# Array representation of binary three"
   ]
  },
  {
   "cell_type": "code",
   "execution_count": null,
   "metadata": {},
   "outputs": [],
   "source": [
    "class queue:\n",
    "        def __init__(self):\n",
    "                self.Q=[]\n",
    "        def enqueue(self,data=-1):\n",
    "                self.Q.append(data)\n",
    "        def dequeue(self):\n",
    "                x=self.Q[0]\n",
    "                self.Q.remove(x)\n",
    "                return x\n",
    "        def is_empty(self):\n",
    "                return len(self.Q)==0\n",
    "class tree_array:\n",
    "        def __init__(self):\n",
    "                self.three=[]\n",
    "        def create_the_tree(self):\n",
    "                Q=queue()\n",
    "\n",
    "                data=int(input(\"Enter the value of the root node \"))\n",
    "                Q.enqueue(data)\n",
    "                self.three.append(data)\n",
    "\n",
    "                while Q.is_empty()==False:\n",
    "                        x=Q.dequeue()\n",
    "                        data=int(input(f\"Enter the left node of : {x} \"))\n",
    "                        if data != -1:\n",
    "                                self.three.append(data)\n",
    "                                Q.enqueue(data)\n",
    "                        else:\n",
    "                                self.three.append(None)\n",
    "                        data=int(input(f\"Enter the right node of : {x} \"))\n",
    "                        if data != -1:\n",
    "                                self.three.append(data)\n",
    "                                Q.enqueue(data)\n",
    "                        else:\n",
    "                                self.three.append(None)\n",
    "                        #print(Q.Q)\n",
    "        def print_the_three(self):\n",
    "                decorator=1\n",
    "                for data in self.three:\n",
    "                        if decorator%2 == 0:\n",
    "                                print(\"\\n\")\n",
    "                        decorator=decorator+1\n",
    "                        print(str(data)+\" \",end=\"\")\n",
    "        def find_the_ancestor(self,data):\n",
    "                try:\n",
    "                        itr=self.three.index(data)\n",
    "                        while itr>0:\n",
    "                                print(self.three[itr])\n",
    "                                itr=itr//2\n",
    "                except Exception as e:\n",
    "                        print(\"There is an exception : \"+str(e))\n",
    "if __name__==\"__main__\":\n",
    "        T=tree_array()\n",
    "        T.create_the_tree()\n",
    "        T.print_the_three()\n",
    "        T.find_the_ancestor(30)"
   ]
  }
 ],
 "metadata": {
  "language_info": {
   "name": "python"
  },
  "orig_nbformat": 4
 },
 "nbformat": 4,
 "nbformat_minor": 2
}
