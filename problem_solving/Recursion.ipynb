{
 "cells": [
  {
   "cell_type": "markdown",
   "metadata": {},
   "source": [
    "# Recursion:\n",
    "\n",
    "- The difference between the head recursion and the tail recursion is:\n",
    "- All the operations were done in the returning time during the head recursion and all the operations were done in the calling time during tail recursion\n",
    "\n",
    "To make a recursion we need two things:\n",
    "\n",
    "- Formula and a base case\n",
    "- This process is called as the _<u>back-tracking</u>_\n",
    "- This is called as the <u>Head recursion</u>.\n",
    "- We can able to convert the _<u>back-tracking to non-backtracking</u>_ with the help of a *additional parameter* called as the <u>accumulator</u>"
   ]
  },
  {
   "cell_type": "code",
   "execution_count": null,
   "metadata": {},
   "outputs": [],
   "source": [
    "def factorial(num):\n",
    "    #n!=(n)*(n-1)\n",
    "    if num==0:\n",
    "        return 1\n",
    "    return num*factorial(num-1)\n",
    "if __name__==\"__main__\":\n",
    "    print(factorial(5))"
   ]
  },
  {
   "cell_type": "markdown",
   "metadata": {},
   "source": [
    "### Transforming the <u>Back tracking to non back tracking</u>"
   ]
  },
  {
   "cell_type": "code",
   "execution_count": null,
   "metadata": {},
   "outputs": [],
   "source": [
    "def factorial(num,accumulator=1):\n",
    "    #n!=(n)*(n-1)\n",
    "    if num==0:\n",
    "         print(accumulator)\n",
    "         return\n",
    "    factorial(num-1,accumulator*num)\n",
    "if __name__==\"__main__\":\n",
    "    factorial(5)"
   ]
  },
  {
   "cell_type": "markdown",
   "metadata": {},
   "source": [
    "Important points to note:\n",
    "- All recursion is not always the back tracking\n",
    "- Until and unless we are using the system stack or some stack to calculate the result then only it is called as the backtracking\n",
    "- In the above code there is no use of stack so we can prin the value of the factorial in the function itself."
   ]
  },
  {
   "cell_type": "code",
   "execution_count": null,
   "metadata": {},
   "outputs": [],
   "source": [
    "def febi(n):  \n",
    "    if n==1:\n",
    "        return 1\n",
    "    if n==0:\n",
    "        return 0\n",
    "\n",
    "    return febi(n-1)+febi(n-2)\n",
    "    \n",
    "if __name__==\"__main__\":\n",
    "    print(febi(6))"
   ]
  },
  {
   "cell_type": "markdown",
   "metadata": {},
   "source": [
    "- There are multiple recursion for the same calculation and this can be reduced by dynamic programming"
   ]
  },
  {
   "cell_type": "code",
   "execution_count": null,
   "metadata": {},
   "outputs": [],
   "source": [
    "fib={}\n",
    "def febi(n):\n",
    "    if n in fib:\n",
    "        return fib[n]    \n",
    "    if n==1:\n",
    "        return 1\n",
    "    if n==0:\n",
    "        return 0\n",
    "\n",
    "    fib[n]= febi(n-1)+febi(n-2)\n",
    "    return fib[n]\n",
    "if __name__==\"__main__\":\n",
    "    print(febi(6))\n",
    "    print(fib)"
   ]
  },
  {
   "cell_type": "markdown",
   "metadata": {},
   "source": [
    "#### Tower of Hanoi\n"
   ]
  }
 ],
 "metadata": {
  "interpreter": {
   "hash": "aee8b7b246df8f9039afb4144a1f6fd8d2ca17a180786b69acc140d282b71a49"
  },
  "kernelspec": {
   "display_name": "Python 3.9.5 64-bit",
   "language": "python",
   "name": "python3"
  },
  "language_info": {
   "codemirror_mode": {
    "name": "ipython",
    "version": 3
   },
   "file_extension": ".py",
   "mimetype": "text/x-python",
   "name": "python",
   "nbconvert_exporter": "python",
   "pygments_lexer": "ipython3",
   "version": "3.9.5"
  },
  "orig_nbformat": 4
 },
 "nbformat": 4,
 "nbformat_minor": 2
}
