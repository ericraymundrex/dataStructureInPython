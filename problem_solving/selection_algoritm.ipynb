{
 "cells": [
  {
   "cell_type": "markdown",
   "metadata": {},
   "source": [
    "### Seletion algoritms\n",
    "- Selection algorithm is to find the <u>kth smallest or largest element</u> in the given data structure\n",
    "- Such number is called as the kth order staticstics\n",
    "- We can find the maximum item, minimum item or median\n",
    "- Aim is to achive this in the O(N)\n",
    "- Alogithms\n",
    "   - Quick select algorritm\n",
    "   - Median of mediansmethod\n",
    "\n",
    "\n",
    "- What if we can use the sorting to find the kth order statstics\n",
    "- If we want to find only one item then sorthing the datastructure is inefficient\n",
    "- This takes O(N*log(N)) in the best case\n",
    "- \n"
   ]
  }
 ],
 "metadata": {
  "language_info": {
   "name": "python"
  },
  "orig_nbformat": 4
 },
 "nbformat": 4,
 "nbformat_minor": 2
}
