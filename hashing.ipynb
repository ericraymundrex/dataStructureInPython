{
 "cells": [
  {
   "cell_type": "markdown",
   "metadata": {},
   "source": [
    "# Hashing technique\n",
    "- Hashing is useful for searching\n",
    "- For Searching we already have some known procedures\n",
    "    - Linear search and binary search\n",
    "- We need some more faster way to search like less time compare to O(n) and O(log(n))\n",
    "- For this only the idea of hashing technique is introduced\n",
    "- If we want to apply the binary search then we have to sort the list\n",
    "- "
   ]
  },
  {
   "cell_type": "code",
   "execution_count": null,
   "metadata": {},
   "outputs": [],
   "source": []
  }
 ],
 "metadata": {
  "language_info": {
   "name": "python"
  },
  "orig_nbformat": 4
 },
 "nbformat": 4,
 "nbformat_minor": 2
}
