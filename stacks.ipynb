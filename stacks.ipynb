{
 "cells": [
  {
   "cell_type": "markdown",
   "metadata": {},
   "source": [
    "# Stacks\n",
    "- LIFO"
   ]
  },
  {
   "cell_type": "code",
   "execution_count": null,
   "metadata": {},
   "outputs": [],
   "source": [
    "class stack:\n",
    "    def __init__(self):\n",
    "        self.stack=[]\n",
    "\n",
    "    def print_stack(self):\n",
    "        print(self.stack)\n",
    "\n",
    "    def push(self,item):\n",
    "        self.stack.append(item)\n",
    "\n",
    "    def is_Empty(self):\n",
    "        return len(self.stack)==0\n",
    "\n",
    "    def pop_stack(self):\n",
    "        if(self.is_Empty()):\n",
    "            return \"The stack is empty\"\n",
    "        return self.stack.pop()\n",
    "    \n",
    "    def peek(self):\n",
    "        if(self.is_Empty()):\n",
    "            return \"Stack is empty\"\n",
    "        return self.stack[len(self.stack)-1]\n",
    "\n",
    "condition=True\n",
    "while(condition):\n",
    "    print(\"Stack operations : 1. create 2. push 3. pop 4. display 5. peek\")\n",
    "    option=int(input())\n",
    "    \n",
    "    if(option==1):\n",
    "        st1=stack()\n",
    "    if(option==2):\n",
    "        st1.push(int(input(\"Enter the number you want to input\")))\n",
    "    if(option==3):\n",
    "        pop=st1.pop_stack()\n",
    "        print(f\"The poped out element is {pop}\")\n",
    "    if(option==4):\n",
    "        st1.print_stack()\n",
    "    if(option==5):\n",
    "        print(f\"The peek {st1.peek()}\")\n",
    "    \n",
    "    temp_condition=input(\"Do you wanna continue y/n\")\n",
    "    if(temp_condition==\"n\"):\n",
    "        print(\"bye!\")\n",
    "        condition=False"
   ]
  },
  {
   "cell_type": "markdown",
   "metadata": {},
   "source": [
    "# Queue"
   ]
  },
  {
   "cell_type": "code",
   "execution_count": null,
   "metadata": {},
   "outputs": [],
   "source": [
    "from array import *\n",
    "class Queue:\n",
    "        def __init__(self):\n",
    "                self.queue=[]\n",
    "        \n",
    "        def enqueue(self,number):\n",
    "                self.queue.append(number)\n",
    "        \n",
    "        def is_empty(self):\n",
    "                return len(self.queue)==0\n",
    "\n",
    "        def dequeue(self):\n",
    "                if(self.is_empty()):\n",
    "                        return None\n",
    "                return self.queue.pop(0)\n",
    "                \n",
    "\n",
    "        def peek(self):\n",
    "                if(self.is_empty()):\n",
    "                        return None\n",
    "                return self.queue[len(self.queue)-1]\n",
    "        \n",
    "        def display(self):\n",
    "                print(self.queue)\n",
    "\n",
    "condition=True\n",
    "while(condition):\n",
    "    print(\"Queue operations : 1. create 2. enqueue 3. dequeue 4. display 5. peek\")\n",
    "    option=int(input())\n",
    "    \n",
    "    if(option==1):\n",
    "        st1=Queue()\n",
    "    if(option==2):\n",
    "        st1.enqueue(int(input(\"Enter the number you want to input\")))\n",
    "    if(option==3):\n",
    "        pop=st1.dequeue()\n",
    "        print(f\"The poped out element is {pop}\")\n",
    "    if(option==4):\n",
    "        st1.display()\n",
    "    if(option==5):\n",
    "        print(f\"The peek {st1.peek()}\")\n",
    "    \n",
    "    temp_condition=input(\"Do you wanna continue y/n\")\n",
    "    if(temp_condition==\"n\"):\n",
    "        print(\"bye!\")\n",
    "        condition=False"
   ]
  }
 ],
 "metadata": {
  "interpreter": {
   "hash": "aee8b7b246df8f9039afb4144a1f6fd8d2ca17a180786b69acc140d282b71a49"
  },
  "kernelspec": {
   "display_name": "Python 3.9.5 64-bit",
   "language": "python",
   "name": "python3"
  },
  "language_info": {
   "codemirror_mode": {
    "name": "ipython",
    "version": 3
   },
   "file_extension": ".py",
   "mimetype": "text/x-python",
   "name": "python",
   "nbconvert_exporter": "python",
   "pygments_lexer": "ipython3",
   "version": "3.9.5"
  },
  "orig_nbformat": 4
 },
 "nbformat": 4,
 "nbformat_minor": 2
}
