{
 "cells": [
  {
   "cell_type": "markdown",
   "metadata": {},
   "source": [
    "# Data structure in python\n",
    "- There is the structure which can hold the data.\n",
    "- These are help to organise(Manipulate) the data, modify the data and store the data.\n",
    "- This enables to store the collection of data and relate them and perform the operations accordingly."
   ]
  },
  {
   "cell_type": "markdown",
   "metadata": {},
   "source": [
    "### List\n",
    "- This is the data structure which we can able to manipulate.\n",
    "- Mutable L[2]=10\n",
    "- Indexing\n",
    "- Not homogeneous\n",
    "- Allows duplicates"
   ]
  },
  {
   "cell_type": "code",
   "execution_count": null,
   "metadata": {},
   "outputs": [],
   "source": [
    "\n",
    "hello=[10,'Hello this is Eric',.5]\n",
    "print(hello)\n",
    "print(type(hello))\n",
    "print(hello[0])\n",
    "#print(hello[9])\n",
    "print(hello[-2])\n",
    "\n",
    "for element in hello:\n",
    "    print(element)"
   ]
  },
  {
   "cell_type": "markdown",
   "metadata": {},
   "source": [
    "### All the list methods\n",
    "#### _Adding the elements in the list_\n",
    "- Adding the elements in the list:\n",
    "    - Append\n",
    "    - Insert\n",
    "    - Extend"
   ]
  },
  {
   "cell_type": "code",
   "execution_count": null,
   "metadata": {},
   "outputs": [],
   "source": [
    "# Append function\n",
    "hello.append([10,10,20])\n",
    "print(hello)\n",
    "\n",
    "# Insert method\n",
    "hello.insert(0,90)\n",
    "print(hello)"
   ]
  },
  {
   "cell_type": "markdown",
   "metadata": {},
   "source": [
    "Insert method will take 2 parameters \n",
    "\n",
    "1 <- Index\n",
    "\n",
    "2 <- Number"
   ]
  },
  {
   "cell_type": "markdown",
   "metadata": {},
   "source": [
    "- There is the difference between the append and the extend\n",
    "- Append will just append the list with the list \n",
    "- extend will deparse it and append the elements to the list"
   ]
  },
  {
   "cell_type": "code",
   "execution_count": null,
   "metadata": {},
   "outputs": [],
   "source": [
    "hello.extend([45,75])\n",
    "print(hello)"
   ]
  },
  {
   "cell_type": "markdown",
   "metadata": {},
   "source": [
    "#### _Removing the elements in the list_\n",
    "- Pop\n",
    "    - The pop method will remove the last element in the list\n",
    "- Remove\n",
    "    - This will remove only the passed element from the list\n",
    "- clear\n",
    "    - This will clear all the elements from the list"
   ]
  },
  {
   "cell_type": "code",
   "execution_count": null,
   "metadata": {},
   "outputs": [],
   "source": [
    "hello.pop()\n",
    "print(hello)\n",
    "\n",
    "hello.remove('Hello this is Eric')\n",
    "print(hello)\n",
    "\n",
    "hello.clear()\n",
    "print(hello)"
   ]
  },
  {
   "cell_type": "markdown",
   "metadata": {},
   "source": [
    "#### sort() method\n",
    "- This will simply sort the list\n",
    "- While using this method all the elements in the list should be homogeneous and the numbers"
   ]
  },
  {
   "cell_type": "code",
   "execution_count": null,
   "metadata": {},
   "outputs": [],
   "source": [
    "a_number_list=[4,5,3,6]\n",
    "a_number_list.sort()\n",
    "print(a_number_list)"
   ]
  },
  {
   "cell_type": "markdown",
   "metadata": {},
   "source": [
    "#### count() method\n",
    "- This will print number of formal parementer elements in the list"
   ]
  },
  {
   "cell_type": "code",
   "execution_count": null,
   "metadata": {},
   "outputs": [],
   "source": [
    "print(a_number_list.count(3))"
   ]
  },
  {
   "cell_type": "markdown",
   "metadata": {},
   "source": [
    "#### index method\n",
    "- This help to find the index of the particular elements"
   ]
  },
  {
   "cell_type": "code",
   "execution_count": null,
   "metadata": {},
   "outputs": [],
   "source": [
    "print(a_number_list.index(5))"
   ]
  },
  {
   "cell_type": "markdown",
   "metadata": {},
   "source": [
    "### Tuple\n",
    "- Immutable\n",
    "    - But we are able to the append the elements in the tuple\n",
    "    - T[2]=32 <- This we can do this\n",
    "    - We cant change the value of tuple once it is there\n",
    "- Indexed T[0] <- This works\n",
    "- Not homogeneous"
   ]
  },
  {
   "cell_type": "code",
   "execution_count": null,
   "metadata": {},
   "outputs": [],
   "source": [
    "T=(1,2,3,'hello')\n",
    "print(type(T))\n",
    "for element in T:\n",
    "    print(element)"
   ]
  },
  {
   "cell_type": "markdown",
   "metadata": {},
   "source": [
    "#### Tuple methods()\n",
    "- Appending the element\n",
    "- Slicing in tuple\n",
    "- Deleting the tuple\n",
    "- We can use the count(), len() and type casting fuctions [tuple()]"
   ]
  },
  {
   "cell_type": "code",
   "execution_count": null,
   "metadata": {},
   "outputs": [],
   "source": [
    "# Append\n",
    "T= T+(45,32)\n",
    "print(T)\n",
    "\n",
    "# slicing\n",
    "print(T[:2])\n",
    "\n",
    "# deleting the tuple\n",
    "del T\n",
    "# This will delete the tuple"
   ]
  },
  {
   "cell_type": "markdown",
   "metadata": {},
   "source": [
    "### Sets\n",
    "- No duplcicates\n",
    "- No indexing"
   ]
  },
  {
   "cell_type": "code",
   "execution_count": null,
   "metadata": {},
   "outputs": [],
   "source": [
    "# Creating the set\n",
    "days={'Monday','Tuesday','Wednesday','Thursday','Friday','Saturday','sunday'}\n",
    "\n",
    "print(days)\n",
    "\n",
    "#Accessing the values in the set\n",
    "for e in days:\n",
    "    print(e)"
   ]
  },
  {
   "cell_type": "markdown",
   "metadata": {},
   "source": [
    "### Set methods\n",
    "- Adding items to the set"
   ]
  },
  {
   "cell_type": "code",
   "execution_count": null,
   "metadata": {},
   "outputs": [],
   "source": [
    "days.add('New day')\n",
    "print(days)"
   ]
  },
  {
   "cell_type": "markdown",
   "metadata": {},
   "source": [
    "- Removing the item from the set"
   ]
  },
  {
   "cell_type": "code",
   "execution_count": null,
   "metadata": {},
   "outputs": [],
   "source": [
    "days.discard('New day')\n",
    "print(days)"
   ]
  },
  {
   "cell_type": "markdown",
   "metadata": {},
   "source": [
    "NOTE:\n",
    "- add() <- to add a new element into the set\n",
    "- discard() <- to remove a element from the set"
   ]
  },
  {
   "cell_type": "markdown",
   "metadata": {},
   "source": [
    "#### Union and intersection of set\n",
    "- | <- Union\n",
    "- & <- Intersection"
   ]
  },
  {
   "cell_type": "code",
   "execution_count": null,
   "metadata": {},
   "outputs": [],
   "source": [
    "T1={1,2,3,4,5}\n",
    "T2={3,4,5,6,7}\n",
    "print(T1|T2)\n",
    "print(T1 & T2)"
   ]
  },
  {
   "cell_type": "markdown",
   "metadata": {},
   "source": [
    "### Dictionary\n",
    "- Mutable\n",
    "- key value pair"
   ]
  },
  {
   "cell_type": "code",
   "execution_count": 4,
   "metadata": {},
   "outputs": [
    {
     "name": "stdout",
     "output_type": "stream",
     "text": [
      "<class 'dict'>\n",
      "Blogs\n"
     ]
    }
   ],
   "source": [
    "book={\n",
    "    1:'Introduction',\n",
    "    2:'Blogs',\n",
    "    3:'Content',\n",
    "    4:'The end'\n",
    "}\n",
    "print(type(book))\n",
    "# This is the way it will access the key\n",
    "print(book[2])"
   ]
  },
  {
   "cell_type": "markdown",
   "metadata": {},
   "source": [
    "### Methods on dictonary\n",
    "- using indexing we can change and add the new keyvalue parirs\n",
    "- in book[1] we are changing the key value pair\n",
    "- in book[5] we are addind the key value pair to the key of 5"
   ]
  },
  {
   "cell_type": "code",
   "execution_count": 2,
   "metadata": {},
   "outputs": [
    {
     "name": "stdout",
     "output_type": "stream",
     "text": [
      "{1: 'this is new ', 2: 'Blogs', 3: 'Content', 4: 'The end', 5: 'This is the actual end'}\n"
     ]
    }
   ],
   "source": [
    "book[1]='this is new '\n",
    "book[5]='This is the actual end'\n",
    "print(book)"
   ]
  },
  {
   "cell_type": "markdown",
   "metadata": {},
   "source": [
    "### Deleting in key value pair\n",
    "- we have to use the pop() <- Method to remove the key"
   ]
  },
  {
   "cell_type": "code",
   "execution_count": 3,
   "metadata": {},
   "outputs": [
    {
     "name": "stdout",
     "output_type": "stream",
     "text": [
      "{1: 'this is new ', 2: 'Blogs', 3: 'Content', 4: 'The end'}\n"
     ]
    }
   ],
   "source": [
    "book.pop(5)\n",
    "print(book)"
   ]
  },
  {
   "cell_type": "markdown",
   "metadata": {},
   "source": [
    "### Clear() \n",
    "- to complete sweep the dictonary"
   ]
  },
  {
   "cell_type": "code",
   "execution_count": null,
   "metadata": {},
   "outputs": [],
   "source": [
    "book.clear()\n",
    "print(book)"
   ]
  },
  {
   "cell_type": "markdown",
   "metadata": {},
   "source": [
    "### Other important methods\n",
    "-  To find all the keys"
   ]
  },
  {
   "cell_type": "code",
   "execution_count": 1,
   "metadata": {},
   "outputs": [
    {
     "name": "stdout",
     "output_type": "stream",
     "text": [
      "dict_keys([1, 2, 3, 4])\n",
      "dict_values(['Introduction', 'Blogs', 'Content', 'The end'])\n",
      "dict_items([(1, 'Introduction'), (2, 'Blogs'), (3, 'Content'), (4, 'The end')])\n",
      "Introduction\n"
     ]
    }
   ],
   "source": [
    "book={\n",
    "    1:'Introduction',\n",
    "    2:'Blogs',\n",
    "    3:'Content',\n",
    "    4:'The end'\n",
    "}\n",
    "\n",
    "print(book.keys())\n",
    "print(book.values())\n",
    "print(book.items())\n",
    "print(book.get(1))"
   ]
  },
  {
   "cell_type": "markdown",
   "metadata": {},
   "source": [
    "### 2-D Array\n",
    "- This have 2 dimensions in the array!\n",
    "- This is used to use more relavent data.\n",
    "\n",
    "9 2 8\n",
    "\n",
    "6 5 3\n",
    "\n",
    "1 0 6\n",
    "\n",
    "- There are both the rows and columns in the 2d matrix\n"
   ]
  },
  {
   "cell_type": "code",
   "execution_count": null,
   "metadata": {},
   "outputs": [],
   "source": [
    "# declaring the basic 2 dimension array\n",
    "array_input=[[9,2,8],[6,5,3],[1,0,6]]\n",
    "for row in array_input:\n",
    "    for ele in row:\n",
    "        print(ele)"
   ]
  },
  {
   "cell_type": "markdown",
   "metadata": {},
   "source": [
    "#### Accessing the rows in the 2d\n"
   ]
  },
  {
   "cell_type": "code",
   "execution_count": null,
   "metadata": {},
   "outputs": [],
   "source": [
    "print(array_input[0])"
   ]
  },
  {
   "cell_type": "markdown",
   "metadata": {},
   "source": [
    "Question1:\n",
    "- To sum all the diagonal element in the 2dimension array"
   ]
  },
  {
   "cell_type": "code",
   "execution_count": null,
   "metadata": {},
   "outputs": [],
   "source": [
    "sum=0\n",
    "for y in range(len(array_input)):\n",
    "    for x in range(len(array_input[0])):\n",
    "        if(x==y):\n",
    "            sum=sum+array_input[x][y]\n",
    "else:\n",
    "    print(f\"sum is {sum}\")"
   ]
  },
  {
   "cell_type": "markdown",
   "metadata": {},
   "source": [
    "#### Get 2-D array as the input"
   ]
  },
  {
   "cell_type": "code",
   "execution_count": null,
   "metadata": {},
   "outputs": [],
   "source": [
    "size=int(input())\n",
    "array_input=[]\n",
    "for x in range(size):\n",
    "    array_input.append([int(y) for y in input().split()])\n",
    "print(array_input)"
   ]
  },
  {
   "cell_type": "markdown",
   "metadata": {},
   "source": [
    "### del()- fuction in 2-D array\n",
    "- In delete we don't have any free function like that we have to use a module called {Array}\n",
    "- This Array module have a function called as del()\n",
    "- This is like free function in C/C++"
   ]
  },
  {
   "cell_type": "code",
   "execution_count": null,
   "metadata": {},
   "outputs": [],
   "source": [
    "from array import *\n",
    "\n",
    "our_2D_array=[[1,1,1,1],[2,2],[52,45]]\n",
    "del(our_2D_array[1][1])\n",
    "\n",
    "for y in our_2D_array:\n",
    "        print(y)"
   ]
  }
 ],
 "metadata": {
  "interpreter": {
   "hash": "aee8b7b246df8f9039afb4144a1f6fd8d2ca17a180786b69acc140d282b71a49"
  },
  "kernelspec": {
   "display_name": "Python 3.9.5 64-bit",
   "language": "python",
   "name": "python3"
  },
  "language_info": {
   "codemirror_mode": {
    "name": "ipython",
    "version": 3
   },
   "file_extension": ".py",
   "mimetype": "text/x-python",
   "name": "python",
   "nbconvert_exporter": "python",
   "pygments_lexer": "ipython3",
   "version": "3.9.5"
  },
  "orig_nbformat": 4
 },
 "nbformat": 4,
 "nbformat_minor": 2
}
